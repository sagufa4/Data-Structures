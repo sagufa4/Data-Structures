{
  "nbformat": 4,
  "nbformat_minor": 0,
  "metadata": {
    "colab": {
      "provenance": []
    },
    "kernelspec": {
      "name": "python3",
      "display_name": "Python 3"
    },
    "language_info": {
      "name": "python"
    }
  },
  "cells": [
    {
      "cell_type": "markdown",
      "source": [
        "# Data Types and Structures\n",
        "\n"
      ],
      "metadata": {
        "id": "Q7yIItVdyUaz"
      }
    },
    {
      "cell_type": "markdown",
      "source": [
        "1.What are data structures, and why are they important?\n",
        "\n",
        "-> Data structures are ways of organizing and storing data for efficient access and modification. They are crucial for writing optimized and scalable programs.\n",
        "\n",
        "2.Explain the difference between mutable and immutable data types with examples.\n",
        "\n",
        "-> Mutable types (Examples are  list, dict, set) can be changed after creation.\n",
        " Immutable types (Examples are  int, str, tuple) cannot be changed.\n",
        "\n",
        " 3.What are the main differences between lists and tuples in Python?\n",
        "\n",
        " -> Lists are mutable and defined with square brackets  [ ].\n",
        "  tuples are immutable and use parentheses ( ).\n",
        "\n",
        "4.Describe how dictionaries store data.\n",
        "\n",
        "-> Dictionaries store data as key-value pairs. Each key is unique and maps to a specific value.\n",
        "\n",
        "5.Why might you use a set instead of a list in Python?\n",
        "\n",
        "-> Sets automatically eliminate duplicates and offer faster membership testing using hashing\n",
        "\n",
        "6.What is a string in Python, and how is it different from a list?\n",
        "\n",
        "-> A string is a sequence of characters, immutable, and typically used for text. A list is mutable and can contain any data types.\n",
        "\n",
        "7.How do tuples ensure data integrity in Python?\n",
        "\n",
        "->Tuples are immutable, which prevents accidental changes and ensures consistent data.\n",
        "\n",
        "8.What is a hash table, and how does it relate to dictionaries in Python?\n",
        "\n",
        "->A hash table is a data structure that maps keys to values using a hash function. Python dictionaries are implemented as hash tables.\n",
        "\n",
        "9.Can lists contain different data types in Python?\n",
        "\n",
        "-> Yes, Python lists can store elements of mixed data types, like integers, strings, and objects.\n",
        "\n",
        "10.Explain why strings are immutable in Python.\n",
        "-> Strings are immutable for memory efficiency and security, and to support hashability for use as dictionary keys.\n",
        "\n",
        "11.What advantages do dictionaries offer over lists for certain tasks?\n",
        "-> Dictionaries provide fast access to values using keys, which is more efficient than searching a list.\n",
        "\n",
        "12.Describe a scenario where using a tuple would be preferable over a list.\n",
        "-> Use a tuple to store fixed data like GPS coordinates or a birth date that shouldn’t change.\n",
        "\n",
        "13.How do sets handle duplicate values in Python?\n",
        "-> Sets automatically remove duplicates and only store unique elements.\n",
        "\n",
        "14.How does the \"in\" keyword work differently for lists and dictionaries?\n",
        "In lists, it checks if a value exists in the elements. In dictionaries, it checks for the existence of a key.\n",
        "\n",
        "15.Can you modify the elements of a tuple? Explain why or why not.\n",
        "-> No, tuples are immutable. Once created, their elements cannot be changed.\n",
        "\n",
        "16.What is a nested dictionary, and give an example of its use case?\n",
        "-> A nested dictionary is a dictionary inside another dictionary, useful for storing structured data like student records:\n",
        "\n",
        "Example:- student = {\"name\": \"Alice\", \"marks\": {\"math\": 90, \"science\": 95}}\n",
        "\n",
        "17.Describe the time complexity of accessing elements in a dictionary.\n",
        "-> Average case time complexity is O(1) due to hash-based access.\n",
        "\n",
        "18.In what situations are lists preferred over dictionaries?\n",
        "-> Lists are preferred when order matters and the data doesn't require key-value mapping.\n",
        "\n",
        "19.Why are dictionaries considered unordered, and how does that affect data retrieval?\n",
        "-> Before Python 3.7, dictionaries were unordered. From 3.7+, insertion order is preserved, but traditionally they didn't guarantee order, affecting predictable data iteration.\n",
        "\n",
        "20.Explain the difference between a list and a dictionary in terms of data retrieval.\n",
        "-> Lists retrieve data by index (position), while dictionaries retrieve data by key, offering faster and more intuitive lookups for labeled data."
      ],
      "metadata": {
        "id": "CP-oQwTzzulR"
      }
    },
    {
      "cell_type": "markdown",
      "source": [],
      "metadata": {
        "id": "aLwi27oCz9hP"
      }
    },
    {
      "cell_type": "markdown",
      "source": [],
      "metadata": {
        "id": "rlbLaUzn4W4P"
      }
    },
    {
      "cell_type": "code",
      "execution_count": 1,
      "metadata": {
        "colab": {
          "base_uri": "https://localhost:8080/"
        },
        "id": "3A2_r10mw7lq",
        "outputId": "14b49c1e-672c-4c2f-f6e3-efd360c2fca9"
      },
      "outputs": [
        {
          "output_type": "stream",
          "name": "stdout",
          "text": [
            "John\n"
          ]
        }
      ],
      "source": [
        "#  Write a code to create a string with your name and print it\n",
        "\n",
        "name = \"John\"\n",
        "print(name)\n"
      ]
    },
    {
      "cell_type": "code",
      "source": [
        "# Write a code to find the length of the string \"Hello World\"\n",
        "\n",
        "s = \"Hello World\"\n",
        "print(len(s))"
      ],
      "metadata": {
        "colab": {
          "base_uri": "https://localhost:8080/"
        },
        "id": "8vg_xSAA4uv0",
        "outputId": "b64c863d-ab5f-4ab6-ce3d-723990137eb4"
      },
      "execution_count": 2,
      "outputs": [
        {
          "output_type": "stream",
          "name": "stdout",
          "text": [
            "11\n"
          ]
        }
      ]
    },
    {
      "cell_type": "code",
      "source": [
        "# Write a code to slice the first 3 characters from the string \"Python Programming\".\n",
        "\n",
        "s = \"Python Programming\"\n",
        "print(s[:3])"
      ],
      "metadata": {
        "colab": {
          "base_uri": "https://localhost:8080/"
        },
        "id": "CMjOfn9A47aN",
        "outputId": "e8d65b8c-c7d0-482a-c496-f046027f1ced"
      },
      "execution_count": 3,
      "outputs": [
        {
          "output_type": "stream",
          "name": "stdout",
          "text": [
            "Pyt\n"
          ]
        }
      ]
    },
    {
      "cell_type": "code",
      "source": [
        "#4 Write a code to convert the string \"hello\" to uppercase\n",
        "\n",
        "s = \"hello\"\n",
        "print(s.upper())"
      ],
      "metadata": {
        "colab": {
          "base_uri": "https://localhost:8080/"
        },
        "id": "mKoslxmg5M1P",
        "outputId": "e702056a-f3bd-424e-c7f2-8266186a45f4"
      },
      "execution_count": 4,
      "outputs": [
        {
          "output_type": "stream",
          "name": "stdout",
          "text": [
            "HELLO\n"
          ]
        }
      ]
    },
    {
      "cell_type": "code",
      "source": [
        "# Write a code to replace the word \"apple\" with \"orange\" in the string \"I like apple\".\n",
        "\n",
        "s = \"I like apple\"\n",
        "print(s.replace(\"apple\", \"orange\"))\n"
      ],
      "metadata": {
        "colab": {
          "base_uri": "https://localhost:8080/"
        },
        "id": "1Cd0IO2-5bdk",
        "outputId": "f469f0c9-822c-43e8-bf03-066652986c77"
      },
      "execution_count": 5,
      "outputs": [
        {
          "output_type": "stream",
          "name": "stdout",
          "text": [
            "I like orange\n"
          ]
        }
      ]
    },
    {
      "cell_type": "code",
      "source": [
        "# Write a code to create a list with numbers 1 to 5 and print it.\n",
        "\n",
        "print(list(range(1, 6)))\n"
      ],
      "metadata": {
        "colab": {
          "base_uri": "https://localhost:8080/"
        },
        "id": "kKXA3u-X5t7-",
        "outputId": "746f25d1-5ba1-46e5-cd2f-ffb1699dc0da"
      },
      "execution_count": 6,
      "outputs": [
        {
          "output_type": "stream",
          "name": "stdout",
          "text": [
            "[1, 2, 3, 4, 5]\n"
          ]
        }
      ]
    },
    {
      "cell_type": "code",
      "source": [
        "# Write a code to append the number 10 to the list [1, 2, 3, 4]\n",
        "\n",
        "lst = [1, 2, 3, 4]\n",
        "lst.append(10)\n",
        "print(lst)"
      ],
      "metadata": {
        "colab": {
          "base_uri": "https://localhost:8080/"
        },
        "id": "YYEJnap556I-",
        "outputId": "018ea955-17f6-466c-e69c-51dca8c2b2f2"
      },
      "execution_count": 7,
      "outputs": [
        {
          "output_type": "stream",
          "name": "stdout",
          "text": [
            "[1, 2, 3, 4, 10]\n"
          ]
        }
      ]
    },
    {
      "cell_type": "code",
      "source": [
        "# Write a code to remove the number 3 from the list [1, 2, 3, 4, 5].\n",
        "\n",
        "lst = [1, 2, 3, 4, 5]\n",
        "lst.remove(3)\n",
        "print(lst)"
      ],
      "metadata": {
        "colab": {
          "base_uri": "https://localhost:8080/"
        },
        "id": "cdGgV6MW6JuT",
        "outputId": "66ea63c1-5202-4a22-ad9c-78d81fdaf336"
      },
      "execution_count": 8,
      "outputs": [
        {
          "output_type": "stream",
          "name": "stdout",
          "text": [
            "[1, 2, 4, 5]\n"
          ]
        }
      ]
    },
    {
      "cell_type": "code",
      "source": [
        "# Write a code to access the second element in the list ['a', 'b', 'c', 'd']\n",
        "\n",
        "lst = ['a', 'b', 'c', 'd']\n",
        "print(lst[1])\n"
      ],
      "metadata": {
        "colab": {
          "base_uri": "https://localhost:8080/"
        },
        "id": "kbzv-sEQ6Tiy",
        "outputId": "e08743be-c39b-4757-f321-77dcdb54ba38"
      },
      "execution_count": 9,
      "outputs": [
        {
          "output_type": "stream",
          "name": "stdout",
          "text": [
            "b\n"
          ]
        }
      ]
    },
    {
      "cell_type": "code",
      "source": [
        "# Write a code to reverse the list [10, 20, 30, 40, 50].\n",
        "\n",
        "lst = [10, 20, 30, 40, 50]\n",
        "lst.reverse()\n",
        "print(lst)"
      ],
      "metadata": {
        "colab": {
          "base_uri": "https://localhost:8080/"
        },
        "id": "N6I1h8mZ6fui",
        "outputId": "b0018641-94cb-4f47-9c31-22de167ac7d5"
      },
      "execution_count": 10,
      "outputs": [
        {
          "output_type": "stream",
          "name": "stdout",
          "text": [
            "[50, 40, 30, 20, 10]\n"
          ]
        }
      ]
    },
    {
      "cell_type": "code",
      "source": [
        "# Write a code to create a tuple with the elements 100, 200, 300 and print it\n",
        "\n",
        "t = (100, 200, 300)\n",
        "print(t)"
      ],
      "metadata": {
        "colab": {
          "base_uri": "https://localhost:8080/"
        },
        "id": "QDsbaL4o6qYv",
        "outputId": "623d85a2-1b6a-4527-f81d-a5c796ea9ad1"
      },
      "execution_count": 11,
      "outputs": [
        {
          "output_type": "stream",
          "name": "stdout",
          "text": [
            "(100, 200, 300)\n"
          ]
        }
      ]
    },
    {
      "cell_type": "code",
      "source": [
        "# Write a code to access the second-to-last element of the tuple ('red', 'green', 'blue', 'yellow')\n",
        "\n",
        "t = ('red', 'green', 'blue', 'yellow')\n",
        "print(t[-2])"
      ],
      "metadata": {
        "colab": {
          "base_uri": "https://localhost:8080/"
        },
        "id": "tXO3mB4P60yT",
        "outputId": "4e2f691f-fd44-4955-931d-d600572c5ae3"
      },
      "execution_count": 12,
      "outputs": [
        {
          "output_type": "stream",
          "name": "stdout",
          "text": [
            "blue\n"
          ]
        }
      ]
    },
    {
      "cell_type": "code",
      "source": [
        "#  Write a code to find the minimum number in the tuple (10, 20, 5, 15)\n",
        "\n",
        "t = (10, 20, 5, 15)\n",
        "print(min(t))"
      ],
      "metadata": {
        "colab": {
          "base_uri": "https://localhost:8080/"
        },
        "id": "4Q8bhwZe6_JN",
        "outputId": "f6cb5743-680a-4904-df15-3cf8862e1fb4"
      },
      "execution_count": 13,
      "outputs": [
        {
          "output_type": "stream",
          "name": "stdout",
          "text": [
            "5\n"
          ]
        }
      ]
    },
    {
      "cell_type": "code",
      "source": [
        "#  Write a code to find the index of the element \"cat\" in the tuple ('dog', 'cat', 'rabbit')\n",
        "\n",
        "t = ('dog', 'cat', 'rabbit')\n",
        "print(t.index('cat'))"
      ],
      "metadata": {
        "colab": {
          "base_uri": "https://localhost:8080/"
        },
        "id": "dM5BVEh97Ery",
        "outputId": "94a32349-67cd-44f4-aab6-40897fe9a9d2"
      },
      "execution_count": 14,
      "outputs": [
        {
          "output_type": "stream",
          "name": "stdout",
          "text": [
            "1\n"
          ]
        }
      ]
    },
    {
      "cell_type": "code",
      "source": [
        "#  Write a code to create a tuple containing three different fruits and check if \"kiwi\" is in it\n",
        "\n",
        "t = ('apple', 'banana', 'kiwi')\n",
        "print('kiwi' in t)"
      ],
      "metadata": {
        "colab": {
          "base_uri": "https://localhost:8080/"
        },
        "id": "UKSzVziv7Ml8",
        "outputId": "e1326513-131f-4ef2-d9e7-dbc7e84c2ad6"
      },
      "execution_count": 15,
      "outputs": [
        {
          "output_type": "stream",
          "name": "stdout",
          "text": [
            "True\n"
          ]
        }
      ]
    },
    {
      "cell_type": "code",
      "source": [
        "#  Write a code to create a set with the elements 'a', 'b', 'c' and print it\n",
        "\n",
        "s = {'a', 'b', 'c'}\n",
        "print(s)"
      ],
      "metadata": {
        "colab": {
          "base_uri": "https://localhost:8080/"
        },
        "id": "eu8Hb6U07XTk",
        "outputId": "95299144-3add-4096-b2bf-ddbb53905b7b"
      },
      "execution_count": 16,
      "outputs": [
        {
          "output_type": "stream",
          "name": "stdout",
          "text": [
            "{'a', 'c', 'b'}\n"
          ]
        }
      ]
    },
    {
      "cell_type": "code",
      "source": [
        "# Write a code to clear all elements from the set {1, 2, 3, 4, 5}\n",
        "\n",
        "s = {1, 2, 3, 4, 5}\n",
        "s.clear()\n",
        "print(s)"
      ],
      "metadata": {
        "colab": {
          "base_uri": "https://localhost:8080/"
        },
        "id": "H9qsPN5O7cPJ",
        "outputId": "eb237430-dbdf-4315-d53b-fdcad61e6d40"
      },
      "execution_count": 17,
      "outputs": [
        {
          "output_type": "stream",
          "name": "stdout",
          "text": [
            "set()\n"
          ]
        }
      ]
    },
    {
      "cell_type": "code",
      "source": [
        "#  Write a code to remove the element 4 from the set {1, 2, 3, 4}\n",
        "\n",
        "s = {1, 2, 3, 4, 5}\n",
        "s.remove(4)\n",
        "print(s)"
      ],
      "metadata": {
        "colab": {
          "base_uri": "https://localhost:8080/"
        },
        "id": "GcKiOflg7mPO",
        "outputId": "7fe92146-710f-4b01-968e-e05f1215f0ac"
      },
      "execution_count": 18,
      "outputs": [
        {
          "output_type": "stream",
          "name": "stdout",
          "text": [
            "{1, 2, 3, 5}\n"
          ]
        }
      ]
    },
    {
      "cell_type": "code",
      "source": [
        "#  Write a code to find the union of two sets {1, 2, 3} and {3, 4, 5}\n",
        "\n",
        "set1 = {1, 2, 3}\n",
        "set2 = {3, 4, 5}\n",
        "print(set1.union(set2))"
      ],
      "metadata": {
        "colab": {
          "base_uri": "https://localhost:8080/"
        },
        "id": "g5ny6qGO7wXa",
        "outputId": "cb64a558-9159-497e-a5d4-a05c615da714"
      },
      "execution_count": 19,
      "outputs": [
        {
          "output_type": "stream",
          "name": "stdout",
          "text": [
            "{1, 2, 3, 4, 5}\n"
          ]
        }
      ]
    },
    {
      "cell_type": "code",
      "source": [
        "#  Write a code to find the intersection of two sets {1, 2, 3} and {2, 3, 4}.\n",
        "\n",
        "set1 = {1, 2, 3}\n",
        "set2 = {2, 3, 4}\n",
        "print(set1.intersection(set2))"
      ],
      "metadata": {
        "colab": {
          "base_uri": "https://localhost:8080/"
        },
        "id": "e5pm0gNf72z3",
        "outputId": "96f228cc-2f8c-441a-b701-6e203314b375"
      },
      "execution_count": 20,
      "outputs": [
        {
          "output_type": "stream",
          "name": "stdout",
          "text": [
            "{2, 3}\n"
          ]
        }
      ]
    },
    {
      "cell_type": "code",
      "source": [
        "#  Write a code to create a dictionary with the keys \"name\", \"age\", and \"city\", and print it.\n",
        "\n",
        "d = {\"name\": \"John\", \"age\": 25, \"city\": \"New York\"}\n",
        "print(d)"
      ],
      "metadata": {
        "colab": {
          "base_uri": "https://localhost:8080/"
        },
        "id": "qu-LnL8e8FI9",
        "outputId": "9489b33f-894d-44d1-d279-4a38bd5e62db"
      },
      "execution_count": 21,
      "outputs": [
        {
          "output_type": "stream",
          "name": "stdout",
          "text": [
            "{'name': 'John', 'age': 25, 'city': 'New York'}\n"
          ]
        }
      ]
    },
    {
      "cell_type": "code",
      "source": [
        "# Write a code to add a new key-value pair \"country\": \"USA\" to the dictionary {'name': 'John', 'age': 25}.\n",
        "\n",
        "d = {\"name\": \"John\", \"age\": 25}\n",
        "d[\"country\"] = \"USA\"\n",
        "print(d)"
      ],
      "metadata": {
        "colab": {
          "base_uri": "https://localhost:8080/"
        },
        "id": "OiDKtUPY8Ncy",
        "outputId": "b0d8190e-8d27-4fc4-ff96-99b8723f3703"
      },
      "execution_count": 22,
      "outputs": [
        {
          "output_type": "stream",
          "name": "stdout",
          "text": [
            "{'name': 'John', 'age': 25, 'country': 'USA'}\n"
          ]
        }
      ]
    },
    {
      "cell_type": "code",
      "source": [
        "# Write a code to access the value associated with the key \"name\" in the dictionary {'name': 'Alice', 'age': 30}\n",
        "\n",
        "d = {\"name\": \"Alice\", \"age\": 30}\n",
        "print(d[\"name\"])"
      ],
      "metadata": {
        "colab": {
          "base_uri": "https://localhost:8080/"
        },
        "id": "97gJGE788S6v",
        "outputId": "60cffd2c-b1f9-4825-9ac5-358eb5527d41"
      },
      "execution_count": 23,
      "outputs": [
        {
          "output_type": "stream",
          "name": "stdout",
          "text": [
            "Alice\n"
          ]
        }
      ]
    },
    {
      "cell_type": "code",
      "source": [
        "#  Write a code to remove the key \"age\" from the dictionary {'name': 'Bob', 'age': 22, 'city': 'New York'}.\n",
        "\n",
        "d = {\"name\": \"Bob\", \"age\": 22, \"city\": \"New York\"}\n",
        "print(d[\"age\"])"
      ],
      "metadata": {
        "colab": {
          "base_uri": "https://localhost:8080/"
        },
        "id": "ddzSiCPN8dQq",
        "outputId": "0c1de440-2918-464d-e58a-f36d904df864"
      },
      "execution_count": 24,
      "outputs": [
        {
          "output_type": "stream",
          "name": "stdout",
          "text": [
            "22\n"
          ]
        }
      ]
    },
    {
      "cell_type": "code",
      "source": [
        "#  Write a code to check if the key \"city\" exists in the dictionary {'name': 'Alice', 'city': 'Paris'}\n",
        "\n",
        "d = {\"name\": \"Alice\", \"city\": \"Paris\"}\n",
        "print(d[\"city\"])"
      ],
      "metadata": {
        "colab": {
          "base_uri": "https://localhost:8080/"
        },
        "id": "Z-HFxKBM8k2A",
        "outputId": "baca7a79-c464-4f26-aae8-41690dfaf0d2"
      },
      "execution_count": 25,
      "outputs": [
        {
          "output_type": "stream",
          "name": "stdout",
          "text": [
            "Paris\n"
          ]
        }
      ]
    },
    {
      "cell_type": "code",
      "source": [
        "# Write a code to create a list, a tuple, and a dictionary, and print them all.\n",
        "\n",
        "lst = [1, 2, 3]\n",
        "tpl = (4, 5, 6)\n",
        "dct = {\"a\": 1, \"b\": 2}\n",
        "print(lst, tpl, dct)"
      ],
      "metadata": {
        "colab": {
          "base_uri": "https://localhost:8080/"
        },
        "id": "7n6nT0z_8uZI",
        "outputId": "45789db0-807e-484f-f5f7-1cf289b8050b"
      },
      "execution_count": 26,
      "outputs": [
        {
          "output_type": "stream",
          "name": "stdout",
          "text": [
            "[1, 2, 3] (4, 5, 6) {'a': 1, 'b': 2}\n"
          ]
        }
      ]
    },
    {
      "cell_type": "code",
      "source": [
        "# Write a code to create a list of 5 random numbers between 1 and 100, sort it in ascending order, and print the\n",
        "# result.(replaced).\n",
        "\n",
        "lst = [5, 3, 8, 1]\n",
        "lst.sort()\n",
        "print(lst)\n",
        "\n"
      ],
      "metadata": {
        "colab": {
          "base_uri": "https://localhost:8080/"
        },
        "id": "AD9fsU9b82Fu",
        "outputId": "f93b1f30-5f95-4eaf-e452-7e5cac2479fa"
      },
      "execution_count": 27,
      "outputs": [
        {
          "output_type": "stream",
          "name": "stdout",
          "text": [
            "[1, 3, 5, 8]\n"
          ]
        }
      ]
    },
    {
      "cell_type": "code",
      "source": [
        "# Write a code to create a list with strings and print the element at the third index.\n",
        "\n",
        "lst = [\"apple\", \"banana\", \"cherry\", \"date\"]\n",
        "print(lst[3])"
      ],
      "metadata": {
        "colab": {
          "base_uri": "https://localhost:8080/"
        },
        "id": "ZLTdb-fM9JQ5",
        "outputId": "15cec65d-b304-46a8-b38c-d3ae598515ba"
      },
      "execution_count": 28,
      "outputs": [
        {
          "output_type": "stream",
          "name": "stdout",
          "text": [
            "date\n"
          ]
        }
      ]
    },
    {
      "cell_type": "code",
      "source": [
        "# Write a code to combine two dictionaries into one and print the result.\n",
        "\n",
        "d1 = {\"a\": 1, \"b\": 2}\n",
        "d2 = {\"c\": 3, \"d\": 4}\n",
        "d1.update(d2)\n",
        "print(d1)"
      ],
      "metadata": {
        "colab": {
          "base_uri": "https://localhost:8080/"
        },
        "id": "5KptzDPT9SWV",
        "outputId": "09c3882b-3858-4061-f2ee-3a20035de278"
      },
      "execution_count": 29,
      "outputs": [
        {
          "output_type": "stream",
          "name": "stdout",
          "text": [
            "{'a': 1, 'b': 2, 'c': 3, 'd': 4}\n"
          ]
        }
      ]
    },
    {
      "cell_type": "code",
      "source": [
        "#  Write a code to convert a list of strings into a set.\n",
        "\n",
        "lst = ['1', '2', '3', '4']\n",
        "converted_set = set(lst)\n",
        "print(converted_set)"
      ],
      "metadata": {
        "colab": {
          "base_uri": "https://localhost:8080/"
        },
        "id": "hakm8utx9Z8K",
        "outputId": "476d0596-116b-46e1-fedc-8ab66d2ebbd8"
      },
      "execution_count": 30,
      "outputs": [
        {
          "output_type": "stream",
          "name": "stdout",
          "text": [
            "{'1', '3', '4', '2'}\n"
          ]
        }
      ]
    }
  ]
}